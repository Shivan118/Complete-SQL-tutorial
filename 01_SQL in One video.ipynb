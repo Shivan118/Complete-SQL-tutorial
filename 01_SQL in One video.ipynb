{
 "cells": [
  {
   "cell_type": "code",
   "execution_count": null,
   "id": "a09fee8a",
   "metadata": {},
   "outputs": [],
   "source": [
    "!pip install mysql-connector-python"
   ]
  },
  {
   "cell_type": "code",
   "execution_count": null,
   "id": "d5b1d727",
   "metadata": {},
   "outputs": [],
   "source": [
    "sql = (\"DROP TABLE Dgreee1\")"
   ]
  },
  {
   "cell_type": "code",
   "execution_count": null,
   "id": "cbdc2522",
   "metadata": {},
   "outputs": [],
   "source": [
    "sql = (\"DROP DATABASES abc1\")"
   ]
  },
  {
   "cell_type": "code",
   "execution_count": 2,
   "id": "44b648b0",
   "metadata": {},
   "outputs": [],
   "source": [
    "import mysql.connector as conn"
   ]
  },
  {
   "cell_type": "code",
   "execution_count": 3,
   "id": "151668ed",
   "metadata": {},
   "outputs": [],
   "source": [
    "mydb = conn.connect(host='localhost',\n",
    "            user='root',\n",
    "            password='12345')"
   ]
  },
  {
   "cell_type": "code",
   "execution_count": 4,
   "id": "44c232de",
   "metadata": {},
   "outputs": [
    {
     "name": "stdout",
     "output_type": "stream",
     "text": [
      "<mysql.connector.connection_cext.CMySQLConnection object at 0x0000021588EA8A60>\n"
     ]
    }
   ],
   "source": [
    "print(mydb)"
   ]
  },
  {
   "cell_type": "code",
   "execution_count": 6,
   "id": "8719f560",
   "metadata": {},
   "outputs": [],
   "source": [
    "mydb = conn.connect(host='localhost',\n",
    "            user='root',\n",
    "            password='12345')\n",
    "\n",
    "mycursor = mydb.cursor()\n",
    "\n",
    "mycursor.execute(\"CREATE DATABASE if not exists abc1\")"
   ]
  },
  {
   "cell_type": "code",
   "execution_count": 7,
   "id": "fa031ac7",
   "metadata": {},
   "outputs": [],
   "source": [
    "# Error 1045(28000)\n",
    "\n",
    "# Error 2003 "
   ]
  },
  {
   "cell_type": "code",
   "execution_count": 8,
   "id": "eb4e8d21",
   "metadata": {},
   "outputs": [
    {
     "name": "stdout",
     "output_type": "stream",
     "text": [
      "('abc',)\n",
      "('abc1',)\n",
      "('abc123',)\n",
      "('adf',)\n",
      "('buld_data',)\n",
      "('bulk_data',)\n",
      "('demo',)\n",
      "('divisible1',)\n",
      "('dress1',)\n",
      "('dress_bulk_data',)\n",
      "('dress_data',)\n",
      "('dress_data1',)\n",
      "('dress_data2',)\n",
      "('ebb',)\n",
      "('ebb_csv',)\n",
      "('employee',)\n",
      "('first',)\n",
      "('first1',)\n",
      "('hotel_reservation_system',)\n",
      "('icc_cup',)\n",
      "('ineuron',)\n",
      "('ineuron_partition',)\n",
      "('information_schema',)\n",
      "('intro_sql',)\n",
      "('key_prim',)\n",
      "('mysql',)\n",
      "('numbers',)\n",
      "('performance_schema',)\n",
      "('retailed',)\n",
      "('retailers',)\n",
      "('sakila',)\n",
      "('salary',)\n",
      "('sales',)\n",
      "('shivan_fsda',)\n",
      "('sudhanshu',)\n",
      "('sys',)\n",
      "('win_fun',)\n",
      "('world',)\n"
     ]
    }
   ],
   "source": [
    "mycursor.execute(\"SHOW DATABASES\")\n",
    "\n",
    "for i in mycursor:\n",
    "    print(i)"
   ]
  },
  {
   "cell_type": "code",
   "execution_count": 9,
   "id": "2a29cf57",
   "metadata": {},
   "outputs": [],
   "source": [
    "mydb = conn.connect(host='localhost',\n",
    "            user='root',\n",
    "            password='12345',\n",
    "            database = \"abc1\")"
   ]
  },
  {
   "cell_type": "code",
   "execution_count": 10,
   "id": "8de45ae9",
   "metadata": {},
   "outputs": [
    {
     "data": {
      "text/plain": [
       "<mysql.connector.connection_cext.CMySQLConnection at 0x21588ea8e50>"
      ]
     },
     "execution_count": 10,
     "metadata": {},
     "output_type": "execute_result"
    }
   ],
   "source": [
    "mydb"
   ]
  },
  {
   "cell_type": "code",
   "execution_count": null,
   "id": "22546a45",
   "metadata": {},
   "outputs": [],
   "source": [
    "# Crate Table"
   ]
  },
  {
   "cell_type": "code",
   "execution_count": null,
   "id": "0caa12a7",
   "metadata": {},
   "outputs": [],
   "source": [
    "mycursor = mydb.cursor()\n",
    "\n",
    "mycursor.execute(\"CREATE TABLE if not exists Dgreee1 (name VARCHAR(30), stream VARCHAR(30), roll_number int, collage_name VARCHAR(30))\")"
   ]
  },
  {
   "cell_type": "code",
   "execution_count": null,
   "id": "827b86cc",
   "metadata": {},
   "outputs": [],
   "source": [
    "mycursor.execute(\"SHOW TABLES\")\n",
    "\n",
    "for i in mycursor:\n",
    "    print(i)"
   ]
  },
  {
   "cell_type": "code",
   "execution_count": null,
   "id": "e00a9053",
   "metadata": {},
   "outputs": [],
   "source": [
    "mycursor = mydb.cursor()\n",
    "\n",
    "mycursor.execute(\"CREATE TABLE Dgreee1 (name VARCHAR(30), stream VARCHAR(30), roll_number int, collage_name VARCHAR(30))\")"
   ]
  },
  {
   "cell_type": "raw",
   "id": "03d94363",
   "metadata": {},
   "source": [
    "Always Use Alter command whenever you want to add some new columns in your existing table."
   ]
  },
  {
   "cell_type": "code",
   "execution_count": null,
   "id": "3fbedc78",
   "metadata": {},
   "outputs": [],
   "source": [
    "mycursor = mydb.curosr()\n",
    "\n",
    "mycursor.execute(\"ALTER TABLE degree1 ADD COLUMN id INT AUTO INCREMENT PRIMARY KEY\")"
   ]
  },
  {
   "cell_type": "code",
   "execution_count": null,
   "id": "e483ea28",
   "metadata": {},
   "outputs": [],
   "source": [
    "mycursor.execute(\"EXPLAIN Dgreee1\")\n",
    "\n",
    "for x in mycursor:\n",
    "  print(x)"
   ]
  },
  {
   "cell_type": "code",
   "execution_count": null,
   "id": "e30fe94c",
   "metadata": {},
   "outputs": [],
   "source": [
    "sql = \"INSERT INTO Dgreee1(name,stream,roll_number,collage_name) VALUES (%s, %s, %s, %s)\"\n",
    "\n",
    "val = (\"SHIVAN\", 'CSE', '163', \"PTU\")\n",
    "\n",
    "mydb.commit()\n",
    "\n",
    "print(mycursor.rowcount,\"Data Insereted.\")"
   ]
  },
  {
   "cell_type": "code",
   "execution_count": 12,
   "id": "5e19dfba",
   "metadata": {},
   "outputs": [
    {
     "name": "stdout",
     "output_type": "stream",
     "text": [
      "11 was inserted.\n"
     ]
    }
   ],
   "source": [
    "sql = \"INSERT INTO Dgreee1(name,stream,roll_number,collage_name) VALUES (%s, %s, %s, %s)\"\n",
    "\n",
    "val = [('sanju', 'CSE', '123', 'PTU'),\n",
    "('sanju', 'CSE', '123', 'PTU'),\n",
    "('Depika', 'CSE', '123', 'LPTU'),\n",
    "('Jayant', 'BIO', '34', 'UPTU'),\n",
    "('Jawala', 'CIVL', '566', 'UPTU'),\n",
    "('Nishtha', 'Mech', '322', 'LPTU'),\n",
    "('sanju', 'CSE', '112', 'PTU'),\n",
    "('Reebha', 'Mech', '678', 'RPTU'),\n",
    "('Shubham', 'CIVIL', '344', 'RTU'),\n",
    "('Deepranjan', 'CSE', '567', 'PTU'),\n",
    "('Khusboo', 'CIVIL', '456', 'RPTU')]\n",
    "\n",
    "mycursor.executemany(sql, val)\n",
    "\n",
    "mydb.commit()\n",
    "\n",
    "print(mycursor.rowcount, \"was inserted.\")"
   ]
  },
  {
   "cell_type": "code",
   "execution_count": 13,
   "id": "50a87a34",
   "metadata": {},
   "outputs": [
    {
     "name": "stdout",
     "output_type": "stream",
     "text": [
      "('sanju', 'CSE', 123, 'PTU')\n",
      "('sanju', 'CSE', 123, 'PTU')\n",
      "('sanju', 'CSE', 123, 'LPTU')\n",
      "('sanju', 'BIO', 34, 'UPTU')\n",
      "('sanju', 'CIVL', 566, 'UPTU')\n",
      "('sanju', 'Mech', 322, 'LPTU')\n",
      "('sanju', 'CSE', 112, 'PTU')\n",
      "('sanju', 'Mech', 678, 'RPTU')\n",
      "('sanju', 'CIVIL', 344, 'RTU')\n",
      "('sanju', 'CSE', 567, 'PTU')\n",
      "('sanju', 'CIVIL', 456, 'RPTU')\n",
      "('sanju', 'CSE', 123, 'PTU')\n",
      "('sanju', 'CSE', 123, 'PTU')\n",
      "('Depika', 'CSE', 123, 'LPTU')\n",
      "('Jayant', 'BIO', 34, 'UPTU')\n",
      "('Jawala', 'CIVL', 566, 'UPTU')\n",
      "('Nishtha', 'Mech', 322, 'LPTU')\n",
      "('sanju', 'CSE', 112, 'PTU')\n",
      "('Reebha', 'Mech', 678, 'RPTU')\n",
      "('Shubham', 'CIVIL', 344, 'RTU')\n",
      "('Deepranjan', 'CSE', 567, 'PTU')\n",
      "('Khusboo', 'CIVIL', 456, 'RPTU')\n",
      "('sanju', 'CSE', 123, 'PTU')\n",
      "('sanju', 'CSE', 123, 'PTU')\n",
      "('Depika', 'CSE', 123, 'LPTU')\n",
      "('Jayant', 'BIO', 34, 'UPTU')\n",
      "('Jawala', 'CIVL', 566, 'UPTU')\n",
      "('Nishtha', 'Mech', 322, 'LPTU')\n",
      "('sanju', 'CSE', 112, 'PTU')\n",
      "('Reebha', 'Mech', 678, 'RPTU')\n",
      "('Shubham', 'CIVIL', 344, 'RTU')\n",
      "('Deepranjan', 'CSE', 567, 'PTU')\n",
      "('Khusboo', 'CIVIL', 456, 'RPTU')\n",
      "('sanju', 'CSE', 123, 'PTU')\n",
      "('sanju', 'CSE', 123, 'PTU')\n",
      "('Depika', 'CSE', 123, 'LPTU')\n",
      "('Jayant', 'BIO', 34, 'UPTU')\n",
      "('Jawala', 'CIVL', 566, 'UPTU')\n",
      "('Nishtha', 'Mech', 322, 'LPTU')\n",
      "('sanju', 'CSE', 112, 'PTU')\n",
      "('Reebha', 'Mech', 678, 'RPTU')\n",
      "('Shubham', 'CIVIL', 344, 'RTU')\n",
      "('Deepranjan', 'CSE', 567, 'PTU')\n",
      "('Khusboo', 'CIVIL', 456, 'RPTU')\n"
     ]
    }
   ],
   "source": [
    "mycursor.execute(\"SELECT * FROM Dgreee1\")\n",
    "\n",
    "myresult = mycursor.fetchall()\n",
    "\n",
    "for i in myresult:\n",
    "    print(i)"
   ]
  },
  {
   "cell_type": "code",
   "execution_count": null,
   "id": "5e0e4b68",
   "metadata": {},
   "outputs": [],
   "source": [
    "mycursor.execute(\"SELECT name, stream, collage_name from Dgreee1\")\n",
    "\n",
    "myresult = mycursor.fetchall()\n",
    "\n",
    "for i in myresult:\n",
    "    print(i)"
   ]
  },
  {
   "cell_type": "code",
   "execution_count": null,
   "id": "a9eb3e6a",
   "metadata": {},
   "outputs": [],
   "source": [
    "mycursor.execute(\"SELECT * FROM Dgreee1\")\n",
    "\n",
    "myresult = mycursor.fetchone()\n",
    "\n",
    "print(myresult)"
   ]
  },
  {
   "cell_type": "code",
   "execution_count": null,
   "id": "b75c3982",
   "metadata": {},
   "outputs": [],
   "source": [
    "#Unread One - DROP Table and Database and restart your kernal"
   ]
  },
  {
   "cell_type": "markdown",
   "id": "ae5cb152",
   "metadata": {},
   "source": [
    "# Where "
   ]
  },
  {
   "cell_type": "code",
   "execution_count": 14,
   "id": "4a1b2220",
   "metadata": {},
   "outputs": [
    {
     "name": "stdout",
     "output_type": "stream",
     "text": [
      "('sanju', 'Mech', 678, 'RPTU')\n",
      "('sanju', 'CIVIL', 456, 'RPTU')\n",
      "('Reebha', 'Mech', 678, 'RPTU')\n",
      "('Khusboo', 'CIVIL', 456, 'RPTU')\n",
      "('Reebha', 'Mech', 678, 'RPTU')\n",
      "('Khusboo', 'CIVIL', 456, 'RPTU')\n",
      "('Reebha', 'Mech', 678, 'RPTU')\n",
      "('Khusboo', 'CIVIL', 456, 'RPTU')\n"
     ]
    }
   ],
   "source": [
    "mycursor = mydb.cursor()\n",
    "\n",
    "sql = \"SELECT * from Dgreee1 WHERE collage_name = 'RPTU'\"\n",
    "\n",
    "mycursor.execute(sql)\n",
    "\n",
    "myresult = mycursor.fetchall()\n",
    "\n",
    "for i in myresult:\n",
    "    print(i)"
   ]
  },
  {
   "cell_type": "code",
   "execution_count": 15,
   "id": "52b6bae2",
   "metadata": {},
   "outputs": [
    {
     "name": "stdout",
     "output_type": "stream",
     "text": [
      "('sanju', 'CSE', 123, 'PTU')\n",
      "('sanju', 'CSE', 123, 'PTU')\n",
      "('sanju', 'CSE', 112, 'PTU')\n",
      "('sanju', 'CSE', 567, 'PTU')\n",
      "('sanju', 'CSE', 123, 'PTU')\n",
      "('sanju', 'CSE', 123, 'PTU')\n",
      "('sanju', 'CSE', 112, 'PTU')\n",
      "('Deepranjan', 'CSE', 567, 'PTU')\n",
      "('sanju', 'CSE', 123, 'PTU')\n",
      "('sanju', 'CSE', 123, 'PTU')\n",
      "('sanju', 'CSE', 112, 'PTU')\n",
      "('Deepranjan', 'CSE', 567, 'PTU')\n",
      "('sanju', 'CSE', 123, 'PTU')\n",
      "('sanju', 'CSE', 123, 'PTU')\n",
      "('sanju', 'CSE', 112, 'PTU')\n",
      "('Deepranjan', 'CSE', 567, 'PTU')\n"
     ]
    }
   ],
   "source": [
    "mycursor = mydb.cursor()\n",
    "\n",
    "sql = \"SELECT * from Dgreee1 WHERE collage_name = 'PTU'\"\n",
    "\n",
    "mycursor.execute(sql)\n",
    "\n",
    "myresult = mycursor.fetchall()\n",
    "\n",
    "for i in myresult:\n",
    "    print(i)"
   ]
  },
  {
   "cell_type": "code",
   "execution_count": 16,
   "id": "4cdc26c9",
   "metadata": {},
   "outputs": [
    {
     "name": "stdout",
     "output_type": "stream",
     "text": [
      "('sanju', 'CSE', 123, 'PTU')\n",
      "('sanju', 'CSE', 123, 'PTU')\n",
      "('sanju', 'CSE', 123, 'LPTU')\n",
      "('sanju', 'BIO', 34, 'UPTU')\n",
      "('sanju', 'CIVL', 566, 'UPTU')\n",
      "('sanju', 'Mech', 322, 'LPTU')\n",
      "('sanju', 'CSE', 112, 'PTU')\n",
      "('sanju', 'Mech', 678, 'RPTU')\n",
      "('sanju', 'CIVIL', 344, 'RTU')\n",
      "('sanju', 'CSE', 567, 'PTU')\n",
      "('sanju', 'CIVIL', 456, 'RPTU')\n",
      "('sanju', 'CSE', 123, 'PTU')\n",
      "('sanju', 'CSE', 123, 'PTU')\n",
      "('Depika', 'CSE', 123, 'LPTU')\n",
      "('Jayant', 'BIO', 34, 'UPTU')\n",
      "('Jawala', 'CIVL', 566, 'UPTU')\n",
      "('Nishtha', 'Mech', 322, 'LPTU')\n",
      "('sanju', 'CSE', 112, 'PTU')\n",
      "('Reebha', 'Mech', 678, 'RPTU')\n",
      "('Shubham', 'CIVIL', 344, 'RTU')\n",
      "('Deepranjan', 'CSE', 567, 'PTU')\n",
      "('Khusboo', 'CIVIL', 456, 'RPTU')\n",
      "('sanju', 'CSE', 123, 'PTU')\n",
      "('sanju', 'CSE', 123, 'PTU')\n",
      "('Depika', 'CSE', 123, 'LPTU')\n",
      "('Jayant', 'BIO', 34, 'UPTU')\n",
      "('Jawala', 'CIVL', 566, 'UPTU')\n",
      "('Nishtha', 'Mech', 322, 'LPTU')\n",
      "('sanju', 'CSE', 112, 'PTU')\n",
      "('Reebha', 'Mech', 678, 'RPTU')\n",
      "('Shubham', 'CIVIL', 344, 'RTU')\n",
      "('Deepranjan', 'CSE', 567, 'PTU')\n",
      "('Khusboo', 'CIVIL', 456, 'RPTU')\n",
      "('sanju', 'CSE', 123, 'PTU')\n",
      "('sanju', 'CSE', 123, 'PTU')\n",
      "('Depika', 'CSE', 123, 'LPTU')\n",
      "('Jayant', 'BIO', 34, 'UPTU')\n",
      "('Jawala', 'CIVL', 566, 'UPTU')\n",
      "('Nishtha', 'Mech', 322, 'LPTU')\n",
      "('sanju', 'CSE', 112, 'PTU')\n",
      "('Reebha', 'Mech', 678, 'RPTU')\n",
      "('Shubham', 'CIVIL', 344, 'RTU')\n",
      "('Deepranjan', 'CSE', 567, 'PTU')\n",
      "('Khusboo', 'CIVIL', 456, 'RPTU')\n"
     ]
    }
   ],
   "source": [
    "mycursor = mydb.cursor()\n",
    "\n",
    "sql = \"SELECT * from Dgreee1 WHERE collage_name LIKE '%U%'\"\n",
    "\n",
    "mycursor.execute(sql)\n",
    "\n",
    "myresult = mycursor.fetchall()\n",
    "\n",
    "for i in myresult:\n",
    "    print(i)"
   ]
  },
  {
   "cell_type": "code",
   "execution_count": 17,
   "id": "75279583",
   "metadata": {},
   "outputs": [
    {
     "name": "stdout",
     "output_type": "stream",
     "text": [
      "('sanju', 'CSE', 123, 'LPTU')\n",
      "('sanju', 'Mech', 322, 'LPTU')\n",
      "('Depika', 'CSE', 123, 'LPTU')\n",
      "('Nishtha', 'Mech', 322, 'LPTU')\n",
      "('Depika', 'CSE', 123, 'LPTU')\n",
      "('Nishtha', 'Mech', 322, 'LPTU')\n",
      "('Depika', 'CSE', 123, 'LPTU')\n",
      "('Nishtha', 'Mech', 322, 'LPTU')\n"
     ]
    }
   ],
   "source": [
    "mycursor = mydb.cursor()\n",
    "\n",
    "sql = \"SELECT * from Dgreee1 WHERE collage_name LIKE '%L%'\"\n",
    "\n",
    "mycursor.execute(sql)\n",
    "\n",
    "myresult = mycursor.fetchall()\n",
    "\n",
    "for i in myresult:\n",
    "    print(i)"
   ]
  },
  {
   "cell_type": "markdown",
   "id": "b3b859e0",
   "metadata": {},
   "source": [
    "# ORDER BY"
   ]
  },
  {
   "cell_type": "raw",
   "id": "986fab61",
   "metadata": {},
   "source": [
    "Sort by assending and Decending Order"
   ]
  },
  {
   "cell_type": "code",
   "execution_count": 18,
   "id": "d02f3a82",
   "metadata": {},
   "outputs": [
    {
     "name": "stdout",
     "output_type": "stream",
     "text": [
      "('Deepranjan', 'CSE', 567, 'PTU')\n",
      "('Deepranjan', 'CSE', 567, 'PTU')\n",
      "('Deepranjan', 'CSE', 567, 'PTU')\n",
      "('Depika', 'CSE', 123, 'LPTU')\n",
      "('Depika', 'CSE', 123, 'LPTU')\n",
      "('Depika', 'CSE', 123, 'LPTU')\n",
      "('Jawala', 'CIVL', 566, 'UPTU')\n",
      "('Jawala', 'CIVL', 566, 'UPTU')\n",
      "('Jawala', 'CIVL', 566, 'UPTU')\n",
      "('Jayant', 'BIO', 34, 'UPTU')\n",
      "('Jayant', 'BIO', 34, 'UPTU')\n",
      "('Jayant', 'BIO', 34, 'UPTU')\n",
      "('Khusboo', 'CIVIL', 456, 'RPTU')\n",
      "('Khusboo', 'CIVIL', 456, 'RPTU')\n",
      "('Khusboo', 'CIVIL', 456, 'RPTU')\n",
      "('Nishtha', 'Mech', 322, 'LPTU')\n",
      "('Nishtha', 'Mech', 322, 'LPTU')\n",
      "('Nishtha', 'Mech', 322, 'LPTU')\n",
      "('Reebha', 'Mech', 678, 'RPTU')\n",
      "('Reebha', 'Mech', 678, 'RPTU')\n",
      "('Reebha', 'Mech', 678, 'RPTU')\n",
      "('sanju', 'CSE', 123, 'PTU')\n",
      "('sanju', 'Mech', 322, 'LPTU')\n",
      "('sanju', 'CSE', 123, 'PTU')\n",
      "('sanju', 'CSE', 123, 'PTU')\n",
      "('sanju', 'CSE', 123, 'PTU')\n",
      "('sanju', 'CSE', 123, 'PTU')\n",
      "('sanju', 'CSE', 112, 'PTU')\n",
      "('sanju', 'CSE', 123, 'LPTU')\n",
      "('sanju', 'BIO', 34, 'UPTU')\n",
      "('sanju', 'CIVL', 566, 'UPTU')\n",
      "('sanju', 'CSE', 112, 'PTU')\n",
      "('sanju', 'CSE', 123, 'PTU')\n",
      "('sanju', 'Mech', 678, 'RPTU')\n",
      "('sanju', 'CIVIL', 344, 'RTU')\n",
      "('sanju', 'CSE', 567, 'PTU')\n",
      "('sanju', 'CSE', 112, 'PTU')\n",
      "('sanju', 'CSE', 112, 'PTU')\n",
      "('sanju', 'CIVIL', 456, 'RPTU')\n",
      "('sanju', 'CSE', 123, 'PTU')\n",
      "('sanju', 'CSE', 123, 'PTU')\n",
      "('Shubham', 'CIVIL', 344, 'RTU')\n",
      "('Shubham', 'CIVIL', 344, 'RTU')\n",
      "('Shubham', 'CIVIL', 344, 'RTU')\n"
     ]
    }
   ],
   "source": [
    "sql = \"SELECT * FROM Dgreee1 ORDER By name\"\n",
    "\n",
    "mycursor.execute(sql)\n",
    "\n",
    "myresult = mycursor.fetchall()\n",
    "\n",
    "for i in myresult:\n",
    "    print(i)"
   ]
  },
  {
   "cell_type": "code",
   "execution_count": 19,
   "id": "89f30276",
   "metadata": {},
   "outputs": [
    {
     "name": "stdout",
     "output_type": "stream",
     "text": [
      "('Shubham', 'CIVIL', 344, 'RTU')\n",
      "('Shubham', 'CIVIL', 344, 'RTU')\n",
      "('Shubham', 'CIVIL', 344, 'RTU')\n",
      "('sanju', 'CSE', 123, 'PTU')\n",
      "('sanju', 'CSE', 123, 'PTU')\n",
      "('sanju', 'CSE', 123, 'LPTU')\n",
      "('sanju', 'BIO', 34, 'UPTU')\n",
      "('sanju', 'CIVL', 566, 'UPTU')\n",
      "('sanju', 'Mech', 322, 'LPTU')\n",
      "('sanju', 'CSE', 112, 'PTU')\n",
      "('sanju', 'Mech', 678, 'RPTU')\n",
      "('sanju', 'CIVIL', 344, 'RTU')\n",
      "('sanju', 'CSE', 567, 'PTU')\n",
      "('sanju', 'CIVIL', 456, 'RPTU')\n",
      "('sanju', 'CSE', 123, 'PTU')\n",
      "('sanju', 'CSE', 123, 'PTU')\n",
      "('sanju', 'CSE', 123, 'PTU')\n",
      "('sanju', 'CSE', 112, 'PTU')\n",
      "('sanju', 'CSE', 123, 'PTU')\n",
      "('sanju', 'CSE', 123, 'PTU')\n",
      "('sanju', 'CSE', 112, 'PTU')\n",
      "('sanju', 'CSE', 112, 'PTU')\n",
      "('sanju', 'CSE', 123, 'PTU')\n",
      "('Reebha', 'Mech', 678, 'RPTU')\n",
      "('Reebha', 'Mech', 678, 'RPTU')\n",
      "('Reebha', 'Mech', 678, 'RPTU')\n",
      "('Nishtha', 'Mech', 322, 'LPTU')\n",
      "('Nishtha', 'Mech', 322, 'LPTU')\n",
      "('Nishtha', 'Mech', 322, 'LPTU')\n",
      "('Khusboo', 'CIVIL', 456, 'RPTU')\n",
      "('Khusboo', 'CIVIL', 456, 'RPTU')\n",
      "('Khusboo', 'CIVIL', 456, 'RPTU')\n",
      "('Jayant', 'BIO', 34, 'UPTU')\n",
      "('Jayant', 'BIO', 34, 'UPTU')\n",
      "('Jayant', 'BIO', 34, 'UPTU')\n",
      "('Jawala', 'CIVL', 566, 'UPTU')\n",
      "('Jawala', 'CIVL', 566, 'UPTU')\n",
      "('Jawala', 'CIVL', 566, 'UPTU')\n",
      "('Depika', 'CSE', 123, 'LPTU')\n",
      "('Depika', 'CSE', 123, 'LPTU')\n",
      "('Depika', 'CSE', 123, 'LPTU')\n",
      "('Deepranjan', 'CSE', 567, 'PTU')\n",
      "('Deepranjan', 'CSE', 567, 'PTU')\n",
      "('Deepranjan', 'CSE', 567, 'PTU')\n"
     ]
    }
   ],
   "source": [
    "sql = \"SELECT * FROM Dgreee1 ORDER By name DESC\"\n",
    "\n",
    "mycursor.execute(sql)\n",
    "\n",
    "myresult = mycursor.fetchall()\n",
    "\n",
    "for i in myresult:\n",
    "    print(i)"
   ]
  },
  {
   "cell_type": "code",
   "execution_count": 25,
   "id": "565fdf9f",
   "metadata": {},
   "outputs": [
    {
     "name": "stdout",
     "output_type": "stream",
     "text": [
      "20 Record Deleted\n"
     ]
    }
   ],
   "source": [
    "sql = \"DELETE FROM Dgreee1 WHERE name = 'Sanju'\"\n",
    "\n",
    "mycursor.execute(sql)\n",
    "\n",
    "mydb.commit() \n",
    "print(mycursor.rowcount, \"Record Deleted\")"
   ]
  },
  {
   "cell_type": "code",
   "execution_count": 26,
   "id": "7f1959b2",
   "metadata": {},
   "outputs": [
    {
     "name": "stdout",
     "output_type": "stream",
     "text": [
      "('Shubham', 'CIVIL', 344, 'RTU')\n",
      "('Shubham', 'CIVIL', 344, 'RTU')\n",
      "('Shubham', 'CIVIL', 344, 'RTU')\n",
      "('Reebha', 'Mech', 678, 'RPTU')\n",
      "('Reebha', 'Mech', 678, 'RPTU')\n",
      "('Reebha', 'Mech', 678, 'RPTU')\n",
      "('Nishtha', 'Mech', 322, 'LPTU')\n",
      "('Nishtha', 'Mech', 322, 'LPTU')\n",
      "('Nishtha', 'Mech', 322, 'LPTU')\n",
      "('Khusboo', 'CIVIL', 456, 'RPTU')\n",
      "('Khusboo', 'CIVIL', 456, 'RPTU')\n",
      "('Khusboo', 'CIVIL', 456, 'RPTU')\n",
      "('Jayant', 'BIO', 34, 'UPTU')\n",
      "('Jayant', 'BIO', 34, 'UPTU')\n",
      "('Jayant', 'BIO', 34, 'UPTU')\n",
      "('Jawala', 'CIVL', 566, 'UPTU')\n",
      "('Jawala', 'CIVL', 566, 'UPTU')\n",
      "('Jawala', 'CIVL', 566, 'UPTU')\n",
      "('Depika', 'CSE', 123, 'LPTU')\n",
      "('Depika', 'CSE', 123, 'LPTU')\n",
      "('Depika', 'CSE', 123, 'LPTU')\n",
      "('Deepranjan', 'CSE', 567, 'PTU')\n",
      "('Deepranjan', 'CSE', 567, 'PTU')\n",
      "('Deepranjan', 'CSE', 567, 'PTU')\n"
     ]
    }
   ],
   "source": [
    "sql = \"SELECT * FROM Dgreee1 ORDER By name DESC\"\n",
    "\n",
    "mycursor.execute(sql)\n",
    "\n",
    "myresult = mycursor.fetchall()\n",
    "\n",
    "for i in myresult:\n",
    "    print(i)"
   ]
  },
  {
   "cell_type": "code",
   "execution_count": 31,
   "id": "a49d9530",
   "metadata": {},
   "outputs": [
    {
     "name": "stdout",
     "output_type": "stream",
     "text": [
      "6 Record Affected\n"
     ]
    }
   ],
   "source": [
    "sql = \"UPDATE Dgreee1 SET collage_name = 'SUSCET' WHERE collage_name = 'RPTU'\"\n",
    "mycursor.execute(sql)\n",
    "\n",
    "mydb.commit() \n",
    "print(mycursor.rowcount, \"Record Affected\")"
   ]
  },
  {
   "cell_type": "code",
   "execution_count": 32,
   "id": "0c58825c",
   "metadata": {},
   "outputs": [
    {
     "name": "stdout",
     "output_type": "stream",
     "text": [
      "('Shubham', 'CIVIL', 344, 'RTU')\n",
      "('Shubham', 'CIVIL', 344, 'RTU')\n",
      "('Shubham', 'CIVIL', 344, 'RTU')\n",
      "('Reebha', 'Mech', 678, 'SUSCET')\n",
      "('Reebha', 'Mech', 678, 'SUSCET')\n",
      "('Reebha', 'Mech', 678, 'SUSCET')\n",
      "('Nishtha', 'Mech', 322, 'LPTU')\n",
      "('Nishtha', 'Mech', 322, 'LPTU')\n",
      "('Nishtha', 'Mech', 322, 'LPTU')\n",
      "('Khusboo', 'CIVIL', 456, 'SUSCET')\n",
      "('Khusboo', 'CIVIL', 456, 'SUSCET')\n",
      "('Khusboo', 'CIVIL', 456, 'SUSCET')\n",
      "('Jayant', 'BIO', 34, 'UPTU')\n",
      "('Jayant', 'BIO', 34, 'UPTU')\n",
      "('Jayant', 'BIO', 34, 'UPTU')\n",
      "('Jawala', 'CIVL', 566, 'UPTU')\n",
      "('Jawala', 'CIVL', 566, 'UPTU')\n",
      "('Jawala', 'CIVL', 566, 'UPTU')\n",
      "('Depika', 'CSE', 123, 'LPTU')\n",
      "('Depika', 'CSE', 123, 'LPTU')\n",
      "('Depika', 'CSE', 123, 'LPTU')\n",
      "('Deepranjan', 'CSE', 567, 'PTU')\n",
      "('Deepranjan', 'CSE', 567, 'PTU')\n",
      "('Deepranjan', 'CSE', 567, 'PTU')\n"
     ]
    }
   ],
   "source": [
    "sql = \"SELECT * FROM Dgreee1 ORDER By name DESC\"\n",
    "\n",
    "mycursor.execute(sql)\n",
    "\n",
    "myresult = mycursor.fetchall()\n",
    "\n",
    "for i in myresult:\n",
    "    print(i)"
   ]
  },
  {
   "cell_type": "code",
   "execution_count": 33,
   "id": "7c4af29d",
   "metadata": {},
   "outputs": [
    {
     "name": "stdout",
     "output_type": "stream",
     "text": [
      "('Depika', 'CSE', 123, 'LPTU')\n",
      "('Jayant', 'BIO', 34, 'UPTU')\n",
      "('Jawala', 'CIVL', 566, 'UPTU')\n",
      "('Nishtha', 'Mech', 322, 'LPTU')\n",
      "('Reebha', 'Mech', 678, 'SUSCET')\n"
     ]
    }
   ],
   "source": [
    "mycursor.execute(\"SELECT * FROM Dgreee1 LIMIT 5\")\n",
    "\n",
    "myresult = mycursor.fetchall()\n",
    "\n",
    "for i in myresult:\n",
    "    print(i)"
   ]
  },
  {
   "cell_type": "code",
   "execution_count": 35,
   "id": "d2239b8f",
   "metadata": {},
   "outputs": [
    {
     "name": "stdout",
     "output_type": "stream",
     "text": [
      "('Nishtha', 'Mech', 322, 'LPTU')\n",
      "('Reebha', 'Mech', 678, 'SUSCET')\n",
      "('Shubham', 'CIVIL', 344, 'RTU')\n",
      "('Deepranjan', 'CSE', 567, 'PTU')\n",
      "('Khusboo', 'CIVIL', 456, 'SUSCET')\n"
     ]
    }
   ],
   "source": [
    "mycursor.execute(\"SELECT * FROM Dgreee1 LIMIT 5 OFFSET 3\")\n",
    "\n",
    "myresult = mycursor.fetchall()\n",
    "\n",
    "for i in myresult:\n",
    "    print(i)"
   ]
  },
  {
   "cell_type": "code",
   "execution_count": 36,
   "id": "cc59f483",
   "metadata": {},
   "outputs": [],
   "source": [
    "mycursor = mydb.cursor()\n",
    "\n",
    "sql = \"DROP TABLE Dgreee1\"\n",
    "\n",
    "mycursor.execute(sql)"
   ]
  },
  {
   "cell_type": "code",
   "execution_count": 37,
   "id": "5aff261a",
   "metadata": {},
   "outputs": [],
   "source": [
    "mycursor = mydb.cursor()\n",
    "\n",
    "sql = \"DROP TABLE IF EXISTS Dgreee1\"\n",
    "\n",
    "mycursor.execute(sql)"
   ]
  },
  {
   "cell_type": "code",
   "execution_count": null,
   "id": "7b0f7579",
   "metadata": {},
   "outputs": [],
   "source": [
    "# Unread "
   ]
  }
 ],
 "metadata": {
  "kernelspec": {
   "display_name": "Python 3 (ipykernel)",
   "language": "python",
   "name": "python3"
  },
  "language_info": {
   "codemirror_mode": {
    "name": "ipython",
    "version": 3
   },
   "file_extension": ".py",
   "mimetype": "text/x-python",
   "name": "python",
   "nbconvert_exporter": "python",
   "pygments_lexer": "ipython3",
   "version": "3.9.7"
  }
 },
 "nbformat": 4,
 "nbformat_minor": 5
}
